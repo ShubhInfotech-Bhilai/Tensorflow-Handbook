{
 "cells": [
  {
   "cell_type": "markdown",
   "metadata": {
    "colab_type": "text",
    "id": "ItXfxkxvosLH"
   },
   "source": [
    "# 使用 Keras 和 Tensorflow Hub 对电影评论进行文本分类"
   ]
  },
  {
   "cell_type": "markdown",
   "metadata": {
    "colab_type": "text",
    "id": "Eg62Pmz3o83v"
   },
   "source": [
    "\n",
    "此笔记本（notebook）使用评论文本将影评分为*积极（positive）*或*消极（nagetive）*两类。这是一个*二元（binary）*或者二分类问题，一种重要且应用广泛的机器学习问题。\n",
    "\n",
    "本教程演示了使用 Tensorflow Hub 和 Keras 进行迁移学习的基本应用。\n",
    "\n",
    "我们将使用来源于[网络电影数据库（Internet Movie Database）](https://www.imdb.com/)的 [IMDB 数据集（IMDB dataset）](https://www.tensorflow.org/api_docs/python/tf/keras/datasets/imdb)，其包含 50,000 条影评文本。从该数据集切割出的 25,000 条评论用作训练，另外 25,000 条用作测试。训练集与测试集是*平衡的（balanced）*，意味着它们包含相等数量的积极和消极评论。\n",
    "\n",
    "此笔记本（notebook）使用了 [tf.keras](https://www.tensorflow.org/guide/keras)，它是一个 Tensorflow 中用于构建和训练模型的高级API，此外还使用了 [TensorFlow Hub](https://www.tensorflow.org/hub)，一个用于迁移学习的库和平台。有关使用 `tf.keras` 进行文本分类的更高级教程，请参阅 [MLCC文本分类指南（MLCC Text Classification Guide）](https://developers.google.com/machine-learning/guides/text-classification/)。"
   ]
  },
  {
   "cell_type": "code",
   "execution_count": 11,
   "metadata": {
    "colab": {},
    "colab_type": "code",
    "id": "2ew7HTbPpCJH"
   },
   "outputs": [
    {
     "name": "stdout",
     "output_type": "stream",
     "text": [
      "Version:  2.0.0\n",
      "Eager mode:  True\n",
      "Hub version:  0.6.0\n",
      "GPU is NOT AVAILABLE\n"
     ]
    }
   ],
   "source": [
    "from __future__ import absolute_import, division, print_function, unicode_literals\n",
    "\n",
    "import numpy as np\n",
    "\n",
    "try:\n",
    "  # Colab only\n",
    "  %tensorflow_version 2.x\n",
    "except Exception:\n",
    "    pass\n",
    "import tensorflow as tf\n",
    "import tensorflow_hub as hub\n",
    "import tensorflow_datasets as tfds\n",
    "\n",
    "print(\"Version: \", tf.__version__)\n",
    "print(\"Eager mode: \", tf.executing_eagerly())\n",
    "print(\"Hub version: \", hub.__version__)\n",
    "print(\"GPU is\", \"available\" if tf.config.experimental.list_physical_devices(\"GPU\") else \"NOT AVAILABLE\")"
   ]
  },
  {
   "cell_type": "markdown",
   "metadata": {
    "colab_type": "text",
    "id": "iAsKG535pHep"
   },
   "source": [
    "## 下载 IMDB 数据集\n",
    "IMDB数据集可以在 [Tensorflow 数据集](https://github.com/tensorflow/datasets)处获取。以下代码将 IMDB 数据集下载至您的机器（或 colab 运行时环境）中："
   ]
  },
  {
   "cell_type": "code",
   "execution_count": 15,
   "metadata": {
    "colab": {},
    "colab_type": "code",
    "id": "zXXx5Oc3pOmN"
   },
   "outputs": [],
   "source": [
    "# 将训练集按照 6:4 的比例进行切割，从而最终我们将得到 15,000\n",
    "# 个训练样本, 10,000 个验证样本以及 25,000 个测试样本\n",
    "train_validation_split = tfds.Split.TRAIN.subsplit([6, 4])\n",
    "\n",
    "(train_data, validation_data), test_data = tfds.load(\n",
    "    name=\"imdb_reviews\", \n",
    "    split=(train_validation_split, tfds.Split.TEST),\n",
    "    as_supervised=True)"
   ]
  },
  {
   "cell_type": "markdown",
   "metadata": {
    "colab_type": "text",
    "id": "l50X3GfjpU4r"
   },
   "source": [
    "## 探索数据\n",
    "\n",
    "让我们花一点时间来了解数据的格式。每一个样本都是一个表示电影评论和相应标签的句子。该句子不以任何方式进行预处理。标签是一个值为 0 或 1 的整数，其中 0 代表消极评论，1 代表积极评论。\n",
    "\n",
    "我们来打印下前十个样本。"
   ]
  },
  {
   "cell_type": "code",
   "execution_count": 16,
   "metadata": {
    "colab": {},
    "colab_type": "code",
    "id": "QtTS4kpEpjbi"
   },
   "outputs": [
    {
     "data": {
      "text/plain": [
       "<tf.Tensor: id=439, shape=(10,), dtype=string, numpy=\n",
       "array([b\"As a lifelong fan of Dickens, I have invariably been disappointed by adaptations of his novels.<br /><br />Although his works presented an extremely accurate re-telling of human life at every level in Victorian Britain, throughout them all was a pervasive thread of humour that could be both playful or sarcastic as the narrative dictated. In a way, he was a literary caricaturist and cartoonist. He could be serious and hilarious in the same sentence. He pricked pride, lampooned arrogance, celebrated modesty, and empathised with loneliness and poverty. It may be a clich\\xc3\\xa9, but he was a people's writer.<br /><br />And it is the comedy that is so often missing from his interpretations. At the time of writing, Oliver Twist is being dramatised in serial form on BBC television. All of the misery and cruelty is their, but non of the humour, irony, and savage lampoonery. The result is just a dark, dismal experience: the story penned by a journalist rather than a novelist. It's not really Dickens at all.<br /><br />'Oliver!', on the other hand, is much closer to the mark. The mockery of officialdom is perfectly interpreted, from the blustering beadle to the drunken magistrate. The classic stand-off between the beadle and Mr Brownlow, in which the law is described as 'a ass, a idiot' couldn't have been better done. Harry Secombe is an ideal choice.<br /><br />But the blinding cruelty is also there, the callous indifference of the state, the cold, hunger, poverty and loneliness are all presented just as surely as The Master would have wished.<br /><br />And then there is crime. Ron Moody is a treasure as the sleazy Jewish fence, whilst Oliver Reid has Bill Sykes to perfection.<br /><br />Perhaps not surprisingly, Lionel Bart - himself a Jew from London's east-end - takes a liberty with Fagin by re-interpreting him as a much more benign fellow than was Dicken's original. In the novel, he was utterly ruthless, sending some of his own boys to the gallows in order to protect himself (though he was also caught and hanged). Whereas in the movie, he is presented as something of a wayward father-figure, a sort of charitable thief rather than a corrupter of children, the latter being a long-standing anti-semitic sentiment. Otherwise, very few liberties are taken with Dickens's original. All of the most memorable elements are included. Just enough menace and violence is retained to ensure narrative fidelity whilst at the same time allowing for children' sensibilities. Nancy is still beaten to death, Bullseye narrowly escapes drowning, and Bill Sykes gets a faithfully graphic come-uppance.<br /><br />Every song is excellent, though they do incline towards schmaltz. Mark Lester mimes his wonderfully. Both his and my favourite scene is the one in which the world comes alive to 'who will buy'. It's schmaltzy, but it's Dickens through and through.<br /><br />I could go on. I could commend the wonderful set-pieces, the contrast of the rich and poor. There is top-quality acting from more British regulars than you could shake a stick at.<br /><br />I ought to give it 10 points, but I'm feeling more like Scrooge today. Soak it up with your Christmas dinner. No original has been better realised.\",\n",
       "       b\"Oh yeah! Jenna Jameson did it again! Yeah Baby! This movie rocks. It was one of the 1st movies i saw of her. And i have to say i feel in love with her, she was great in this move.<br /><br />Her performance was outstanding and what i liked the most was the scenery and the wardrobe it was amazing you can tell that they put a lot into the movie the girls cloth were amazing.<br /><br />I hope this comment helps and u can buy the movie, the storyline is awesome is very unique and i'm sure u are going to like it. Jenna amazed us once more and no wonder the movie won so many awards. Her make-up and wardrobe is very very sexy and the girls on girls scene is amazing. specially the one where she looks like an angel. It's a must see and i hope u share my interests\",\n",
       "       b\"I saw this film on True Movies (which automatically made me sceptical) but actually - it was good. Why? Not because of the amazing plot twists or breathtaking dialogue (of which there is little) but because actually, despite what people say I thought the film was accurate in it's depiction of teenagers dealing with pregnancy.<br /><br />It's NOT Dawson's Creek, they're not graceful, cool witty characters who breeze through sexuality with effortless knowledge. They're kids and they act like kids would. <br /><br />They're blunt, awkward and annoyingly confused about everything. Yes, this could be by accident and they could just be bad actors but I don't think so. Dermot Mulroney gives (when not trying to be cool) a very believable performance and I loved him for it. Patricia Arquette IS whiny and annoying, but she was pregnant and a teenagers? The combination of the two isn't exactly lavender on your pillow. The plot was VERY predictable and but so what? I believed them, his stress and inability to cope - her brave, yet slightly misguided attempts to bring them closer together. I think the characters, acted by anyone else, WOULD indeed have been annoying and unbelievable but they weren't. It reflects the surreality of the situation they're in, that he's sitting in class and she walks on campus with the baby. I felt angry at her for that, I felt angry at him for being such a child and for blaming her. I felt it all.<br /><br />In the end, I loved it and would recommend it.<br /><br />Watch out for the scene where Dermot Mulroney runs from the disastrous counselling session - career performance.\",\n",
       "       b'This was a wonderfully clever and entertaining movie that I shall never tire of watching many, many times. The casting was magnificent in matching up the young with the older characters. There are those of us out here who really do appreciate good actors and an intelligent story format. As for Judi Dench, she is beautiful and a gift to any kind of production in which she stars. I always make a point to see Judi Dench in all her performances. She is a superb actress and a pleasure to watch as each transformation of her character comes to life. I can only be grateful when I see such an outstanding picture for most of the motion pictures made more recently lack good characters, good scripts and good acting. The movie public needs heroes, not deviant manikins, who lack ingenuity and talent. How wonderful to see old favorites like Leslie Caron, Olympia Dukakis and Cleo Laine. I would like to see this movie win the awards it deserves. Thank you again for a tremendous night of entertainment. I congratulate the writer, director, producer, and all those who did such a fine job.',\n",
       "       b'I have no idea what the other reviewer is talking about- this was a wonderful movie, and created a sense of the era that feels like time travel. The characters are truly young, Mary is a strong match for Byron, Claire is juvenile and a tad annoying, Polidori is a convincing beaten-down sycophant... all are beautiful, curious, and decadent... not the frightening wrecks they are in Gothic.<br /><br />Gothic works as an independent piece of shock film, and I loved it for different reasons, but this works like a Merchant and Ivory film, and was from my readings the best capture of what the summer must have felt like. Romantic, yes, but completely rekindles my interest in the lives of Shelley and Byron every time I think about the film. One of my all-time favorites.',\n",
       "       b\"This was soul-provoking! I am an Iranian, and living in th 21st century, I didn't know that such big tribes have been living in such conditions at the time of my grandfather!<br /><br />You see that today, or even in 1925, on one side of the world a lady or a baby could have everything served for him or her clean and on-demand, but here 80 years ago, people ventured their life to go to somewhere with more grass. It's really interesting that these Persians bear those difficulties to find pasture for their sheep, but they lose many the sheep on their way.<br /><br />I praise the Americans who accompanied this tribe, they were as tough as Bakhtiari people.\",\n",
       "       b'Just because someone is under the age of 10 does not mean they are stupid. If your child likes this film you\\'d better have him/her tested. I am continually amazed at how so many people can be involved in something that turns out so bad. This \"film\" is a showcase for digital wizardry AND NOTHING ELSE. The writing is horrid. I can\\'t remember when I\\'ve heard such bad dialogue. The songs are beyond wretched. The acting is sub-par but then the actors were not given much. Who decided to employ Joey Fatone? He cannot sing and he is ugly as sin.<br /><br />The worst thing is the obviousness of it all. It is as if the writers went out of their way to make it all as stupid as possible. Great children\\'s movies are wicked, smart and full of wit - films like Shrek and Toy Story in recent years, Willie Wonka and The Witches to mention two of the past. But in the continual dumbing-down of American more are flocking to dreck like Finding Nemo (yes, that\\'s right), the recent Charlie & The Chocolate Factory and eye-crossing trash like Red Riding Hood.',\n",
       "       b\"I absolutely LOVED this movie when I was a kid. I cried every time I watched it. It wasn't weird to me. I totally identified with the characters. I would love to see it again (and hope I wont be disappointed!). Pufnstuf rocks!!!! I was really drawn in to the fantasy world. And to me the movie was loooong. I wonder if I ever saw the series and have confused them? The acting I thought was strong. I loved Jack Wilde. He was so dreamy to an 10 year old (when I first saw the movie, not in 1970. I can still remember the characters vividly. The flute was totally believable and I can still 'feel' the evil woods. Witchy poo was scary - I wouldn't want to cross her path.\",\n",
       "       b'A very close and sharp discription of the bubbling and dynamic emotional world of specialy one 18year old guy, that makes his first experiences in his gay love to an other boy, during an vacation with a part of his family.<br /><br />I liked this film because of his extremly clear and surrogated storytelling , with all this \"Sound-close-ups\" and quiet moments wich had been full of intensive moods.<br /><br />',\n",
       "       b\"This is the most depressing film I have ever seen. I first saw it as a child and even thinking about it now really upsets me. I know it was set in a time when life was hard and I know these people were poor and the crops were vital. Yes, I get all that. What I find hard to take is I can't remember one single light moment in the entire film. Maybe it was true to life, I don't know. I'm quite sure the acting was top notch and the direction and quality of filming etc etc was wonderful and I know that every film can't have a happy ending but as a family film it is dire in my opinion.<br /><br />I wouldn't recommend it to anyone who wants to be entertained by a film. I can't stress enough how this film affected me as a child. I was talking about it recently and all the sad memories came flooding back. I think it would have all but the heartless reaching for the Prozac.\"],\n",
       "      dtype=object)>"
      ]
     },
     "execution_count": 16,
     "metadata": {},
     "output_type": "execute_result"
    }
   ],
   "source": [
    "train_examples_batch, train_labels_batch = next(iter(train_data.batch(10)))\n",
    "train_examples_batch"
   ]
  },
  {
   "cell_type": "markdown",
   "metadata": {
    "colab_type": "text",
    "id": "IFtaCHTdc-GY"
   },
   "source": [
    "我们再打印下前十个标签。"
   ]
  },
  {
   "cell_type": "code",
   "execution_count": 17,
   "metadata": {
    "colab": {},
    "colab_type": "code",
    "id": "tvAjVXOWc6Mj"
   },
   "outputs": [
    {
     "data": {
      "text/plain": [
       "<tf.Tensor: id=440, shape=(10,), dtype=int64, numpy=array([1, 1, 1, 1, 1, 1, 0, 1, 1, 0], dtype=int64)>"
      ]
     },
     "execution_count": 17,
     "metadata": {},
     "output_type": "execute_result"
    }
   ],
   "source": [
    "train_labels_batch"
   ]
  },
  {
   "cell_type": "markdown",
   "metadata": {
    "colab_type": "text",
    "id": "LLC02j2g-llC"
   },
   "source": [
    "## 构建模型\n",
    "\n",
    "神经网络由堆叠的层来构建，这需要从三个主要方面来进行体系结构决策：\n",
    "\n",
    "* 如何表示文本？\n",
    "* 模型里有多少层？\n",
    "* 每个层里有多少*隐层单元（hidden units）*？\n",
    "\n",
    "本示例中，输入数据由句子组成。预测的标签为 0 或 1。\n",
    "\n",
    "表示文本的一种方式是将句子转换为嵌入向量（embeddings vectors）。我们可以使用一个预先训练好的文本嵌入（text embedding）作为首层，这将具有三个优点：\n",
    "\n",
    "* 我们不必担心文本预处理\n",
    "* 我们可以从迁移学习中受益\n",
    "* 嵌入具有固定长度，更易于处理\n",
    "\n",
    "针对此示例我们将使用 [TensorFlow Hub](https://www.tensorflow.org/hub) 中名为 [google/tf2-preview/gnews-swivel-20dim/1](https://tfhub.dev/google/tf2-preview/gnews-swivel-20dim/1) 的一种**预训练文本嵌入（text embedding）模型** 。\n",
    "\n",
    "为了达到本教程的目的还有其他三种预训练模型可供测试：\n",
    "\n",
    "* [google/tf2-preview/gnews-swivel-20dim-with-oov/1](https://tfhub.dev/google/tf2-preview/gnews-swivel-20dim-with-oov/1) ——类似 [google/tf2-preview/gnews-swivel-20dim/1](https://tfhub.dev/google/tf2-preview/gnews-swivel-20dim/1)，但 2.5%的词汇转换为未登录词桶（OOV buckets）。如果任务的词汇与模型的词汇没有完全重叠，这将会有所帮助。\n",
    "* [google/tf2-preview/nnlm-en-dim50/1](https://tfhub.dev/google/tf2-preview/nnlm-en-dim50/1) ——一个拥有约 1M 词汇量且维度为 50 的更大的模型。\n",
    "* [google/tf2-preview/nnlm-en-dim128/1](https://tfhub.dev/google/tf2-preview/nnlm-en-dim128/1) ——拥有约 1M 词汇量且维度为128的更大的模型。"
   ]
  },
  {
   "cell_type": "markdown",
   "metadata": {
    "colab_type": "text",
    "id": "In2nDpTLkgKa"
   },
   "source": [
    "让我们首先创建一个使用 Tensorflow Hub 模型嵌入（embed）语句的Keras层，并在几个输入样本中进行尝试。请注意无论输入文本的长度如何，嵌入（embeddings）输出的形状都是：`(num_examples, embedding_dimension)`。\n"
   ]
  },
  {
   "cell_type": "code",
   "execution_count": 18,
   "metadata": {
    "colab": {},
    "colab_type": "code",
    "id": "_NUbzVeYkgcO"
   },
   "outputs": [
    {
     "data": {
      "text/plain": [
       "<tf.Tensor: id=620, shape=(3, 20), dtype=float32, numpy=\n",
       "array([[ 3.9819887 , -4.4838037 ,  5.177359  , -2.3643482 , -3.2938678 ,\n",
       "        -3.5364532 , -2.4786978 ,  2.5525482 ,  6.688532  , -2.3076782 ,\n",
       "        -1.9807833 ,  1.1315885 , -3.0339816 , -0.7604128 , -5.743445  ,\n",
       "         3.4242578 ,  4.790099  , -4.03061   , -5.992149  , -1.7297493 ],\n",
       "       [ 3.4232912 , -4.230874  ,  4.1488533 , -0.29553518, -6.802391  ,\n",
       "        -2.5163853 , -4.4002395 ,  1.905792  ,  4.7512794 , -0.40538004,\n",
       "        -4.3401685 ,  1.0361497 ,  0.9744097 ,  0.71507156, -6.2657013 ,\n",
       "         0.16533905,  4.560262  , -1.3106939 , -3.1121316 , -2.1338716 ],\n",
       "       [ 3.8508697 , -5.003031  ,  4.8700504 , -0.04324996, -5.893603  ,\n",
       "        -5.2983093 , -4.004676  ,  4.1236343 ,  6.267754  ,  0.11632943,\n",
       "        -3.5934832 ,  0.8023905 ,  0.56146765,  0.9192484 , -7.3066816 ,\n",
       "         2.8202746 ,  6.2000837 , -3.5709393 , -4.564525  , -2.305622  ]],\n",
       "      dtype=float32)>"
      ]
     },
     "execution_count": 18,
     "metadata": {},
     "output_type": "execute_result"
    }
   ],
   "source": [
    "embedding = \"https://tfhub.dev/google/tf2-preview/gnews-swivel-20dim/1\"\n",
    "hub_layer = hub.KerasLayer(embedding, input_shape=[], \n",
    "                           dtype=tf.string, trainable=True)\n",
    "hub_layer(train_examples_batch[:3])"
   ]
  },
  {
   "cell_type": "markdown",
   "metadata": {
    "colab_type": "text",
    "id": "dfSbV6igl1EH"
   },
   "source": [
    "现在让我们构建完整模型："
   ]
  },
  {
   "cell_type": "code",
   "execution_count": 19,
   "metadata": {
    "colab": {},
    "colab_type": "code",
    "id": "xpKOoWgu-llD"
   },
   "outputs": [
    {
     "name": "stdout",
     "output_type": "stream",
     "text": [
      "Model: \"sequential_1\"\n",
      "_________________________________________________________________\n",
      "Layer (type)                 Output Shape              Param #   \n",
      "=================================================================\n",
      "keras_layer (KerasLayer)     (None, 20)                400020    \n",
      "_________________________________________________________________\n",
      "dense (Dense)                (None, 16)                336       \n",
      "_________________________________________________________________\n",
      "dense_1 (Dense)              (None, 1)                 17        \n",
      "=================================================================\n",
      "Total params: 400,373\n",
      "Trainable params: 400,373\n",
      "Non-trainable params: 0\n",
      "_________________________________________________________________\n"
     ]
    }
   ],
   "source": [
    "model = tf.keras.Sequential()\n",
    "model.add(hub_layer)\n",
    "model.add(tf.keras.layers.Dense(16, activation='relu'))\n",
    "model.add(tf.keras.layers.Dense(1, activation='sigmoid'))\n",
    "\n",
    "model.summary()"
   ]
  },
  {
   "cell_type": "markdown",
   "metadata": {
    "colab_type": "text",
    "id": "6PbKQ6mucuKL"
   },
   "source": [
    "层按顺序堆叠以构建分类器：\n",
    "\n",
    "1. 第一层是 Tensorflow Hub 层。这一层使用一个预训练的保存好的模型来将句子映射为嵌入向量（embedding vector）。我们所使用的预训练文本嵌入（embedding）模型([google/tf2-preview/gnews-swivel-20dim/1](https://tfhub.dev/google/tf2-preview/gnews-swivel-20dim/1))将句子切割为符号，嵌入（embed）每个符号然后进行合并。最终得到的维度是：`(num_examples, embedding_dimension)`。\n",
    "2. 该定长输出向量通过一个有 16 个隐层单元的全连接层（`Dense`）进行管道传输。\n",
    "3. 最后一层与单个输出结点紧密相连。使用 `Sigmoid` 激活函数，其函数值为介于 0 与 1 之间的浮点数，表示概率或置信水平。\n",
    "\n",
    "让我们编译模型。"
   ]
  },
  {
   "cell_type": "markdown",
   "metadata": {
    "colab_type": "text",
    "id": "L4EqVWg4-llM"
   },
   "source": [
    "### 损失函数与优化器\n",
    "\n",
    "一个模型需要损失函数和优化器来进行训练。由于这是一个二分类问题且模型输出概率值（一个使用 sigmoid 激活函数的单一单元层），我们将使用 `binary_crossentropy` 损失函数。\n",
    "\n",
    "这不是损失函数的唯一选择，例如，您可以选择 `mean_squared_error` 。但是，一般来说 `binary_crossentropy` 更适合处理概率——它能够度量概率分布之间的“距离”，或者在我们的示例中，指的是度量 ground-truth 分布与预测值之间的“距离”。\n",
    "\n",
    "稍后，当我们研究回归问题（例如，预测房价）时，我们将介绍如何使用另一种叫做均方误差的损失函数。\n",
    "\n",
    "现在，配置模型来使用优化器和损失函数："
   ]
  },
  {
   "cell_type": "code",
   "execution_count": 20,
   "metadata": {
    "colab": {},
    "colab_type": "code",
    "id": "Mr0GP-cQ-llN"
   },
   "outputs": [],
   "source": [
    "model.compile(optimizer='adam',\n",
    "              loss='binary_crossentropy',\n",
    "              metrics=['accuracy'])"
   ]
  },
  {
   "cell_type": "markdown",
   "metadata": {
    "colab_type": "text",
    "id": "35jv_fzP-llU"
   },
   "source": [
    "## 训练模型\n",
    "\n",
    "以 512 个样本的 mini-batch 大小迭代 20 个 epoch 来训练模型。 这是指对 `x_train` 和 `y_train` 张量中所有样本的的 20 次迭代。在训练过程中，监测来自验证集的 10,000 个样本上的损失值（loss）和准确率（accuracy）："
   ]
  },
  {
   "cell_type": "code",
   "execution_count": 21,
   "metadata": {
    "colab": {},
    "colab_type": "code",
    "id": "tXSGrjWZ-llW"
   },
   "outputs": [
    {
     "name": "stdout",
     "output_type": "stream",
     "text": [
      "Epoch 1/20\n",
      "30/30 [==============================].7508 - accuracy: 0.49 - 1s 658ms/step - loss: 2.7317 - accuracy: 0.492 - 1s 467ms/step - loss: 2.7024 - accuracy: 0.490 - 1s 372ms/step - loss: 2.5895 - accuracy: 0.500 - 2s 314ms/step - loss: 2.5624 - accuracy: 0.497 - 2s 274ms/step - loss: 2.5335 - accuracy: 0.494 - 2s 246ms/step - loss: 2.4715 - accuracy: 0.496 - 2s 224ms/step - loss: 2.4200 - accuracy: 0.495 - 2s 208ms/step - loss: 2.3599 - accuracy: 0.496 - 2s 193ms/step - loss: 2.3031 - accuracy: 0.498 - 2s 181ms/step - loss: 2.2501 - accuracy: 0.499 - 2s 171ms/step - loss: 2.1951 - accuracy: 0.500 - 2s 162ms/step - loss: 2.1548 - accuracy: 0.497 - 2s 155ms/step - loss: 2.1081 - accuracy: 0.495 - 2s 149ms/step - loss: 2.0619 - accuracy: 0.495 - 2s 143ms/step - loss: 2.0159 - accuracy: 0.494 - 2s 138ms/step - loss: 1.9673 - accuracy: 0.495 - 2s 134ms/step - loss: 1.9247 - accuracy: 0.494 - 2s 130ms/step - loss: 1.8792 - accuracy: 0.494 - 3s 126ms/step - loss: 1.8344 - accuracy: 0.495 - 3s 123ms/step - loss: 1.7926 - accuracy: 0.496 - 3s 121ms/step - loss: 1.7531 - accuracy: 0.496 - 3s 118ms/step - loss: 1.7139 - accuracy: 0.497 - 3s 116ms/step - loss: 1.6753 - accuracy: 0.499 - 3s 114ms/step - loss: 1.6393 - accuracy: 0.499 - 3s 112ms/step - loss: 1.6039 - accuracy: 0.503 - 3s 110ms/step - loss: 1.5707 - accuracy: 0.504 - 3s 108ms/step - loss: 1.5394 - accuracy: 0.507 - 3s 106ms/step - loss: 1.5100 - accuracy: 0.510 - 3s 104ms/step - loss: 1.4839 - accuracy: 0.510 - 5s 178ms/step - loss: 1.4839 - accuracy: 0.5107 - val_loss: 0.0000e+00 - val_accuracy: 0.0000e+00\n",
      "Epoch 2/20\n",
      "30/30 [==============================] - ETA: 20s - loss: 0.6849 - accuracy: 0.595 - ETA: 11s - loss: 0.6938 - accuracy: 0.583 - ETA: 7s - loss: 0.6813 - accuracy: 0.602 - ETA: 6s - loss: 0.6920 - accuracy: 0.60 - ETA: 5s - loss: 0.6918 - accuracy: 0.60 - ETA: 4s - loss: 0.6956 - accuracy: 0.60 - ETA: 3s - loss: 0.6967 - accuracy: 0.60 - ETA: 3s - loss: 0.6989 - accuracy: 0.60 - ETA: 2s - loss: 0.6998 - accuracy: 0.60 - ETA: 2s - loss: 0.7048 - accuracy: 0.60 - ETA: 2s - loss: 0.7028 - accuracy: 0.60 - ETA: 1s - loss: 0.7029 - accuracy: 0.60 - ETA: 1s - loss: 0.7010 - accuracy: 0.60 - ETA: 1s - loss: 0.6997 - accuracy: 0.60 - ETA: 1s - loss: 0.6971 - accuracy: 0.60 - ETA: 0s - loss: 0.6961 - accuracy: 0.60 - ETA: 0s - loss: 0.6931 - accuracy: 0.60 - ETA: 0s - loss: 0.6903 - accuracy: 0.60 - ETA: 0s - loss: 0.6895 - accuracy: 0.61 - 5s 177ms/step - loss: 0.6857 - accuracy: 0.6132 - val_loss: 0.6421 - val_accuracy: 0.6289\n",
      "Epoch 3/20\n",
      "30/30 [==============================] - ETA: 12s - loss: 0.6319 - accuracy: 0.630 - ETA: 6s - loss: 0.6286 - accuracy: 0.646 - ETA: 4s - loss: 0.6374 - accuracy: 0.63 - ETA: 3s - loss: 0.6318 - accuracy: 0.64 - ETA: 2s - loss: 0.6379 - accuracy: 0.63 - ETA: 2s - loss: 0.6366 - accuracy: 0.63 - ETA: 2s - loss: 0.6405 - accuracy: 0.63 - ETA: 1s - loss: 0.6398 - accuracy: 0.63 - ETA: 1s - loss: 0.6383 - accuracy: 0.63 - ETA: 1s - loss: 0.6394 - accuracy: 0.63 - ETA: 1s - loss: 0.6394 - accuracy: 0.63 - ETA: 0s - loss: 0.6363 - accuracy: 0.63 - ETA: 0s - loss: 0.6353 - accuracy: 0.63 - ETA: 0s - loss: 0.6342 - accuracy: 0.63 - ETA: 0s - loss: 0.6343 - accuracy: 0.63 - ETA: 0s - loss: 0.6330 - accuracy: 0.64 - ETA: 0s - loss: 0.6337 - accuracy: 0.64 - ETA: 0s - loss: 0.6334 - accuracy: 0.64 - ETA: 0s - loss: 0.6318 - accuracy: 0.64 - 4s 129ms/step - loss: 0.6306 - accuracy: 0.6457 - val_loss: 0.6125 - val_accuracy: 0.6621\n",
      "Epoch 4/20\n",
      "30/30 [==============================] - ETA: 18s - loss: 0.5946 - accuracy: 0.662 - ETA: 10s - loss: 0.6036 - accuracy: 0.661 - ETA: 7s - loss: 0.6024 - accuracy: 0.659 - ETA: 5s - loss: 0.6036 - accuracy: 0.66 - ETA: 4s - loss: 0.6079 - accuracy: 0.65 - ETA: 4s - loss: 0.6071 - accuracy: 0.65 - ETA: 3s - loss: 0.6079 - accuracy: 0.65 - ETA: 3s - loss: 0.6097 - accuracy: 0.65 - ETA: 2s - loss: 0.6104 - accuracy: 0.65 - ETA: 2s - loss: 0.6112 - accuracy: 0.65 - ETA: 1s - loss: 0.6131 - accuracy: 0.65 - ETA: 1s - loss: 0.6128 - accuracy: 0.65 - ETA: 1s - loss: 0.6126 - accuracy: 0.65 - ETA: 1s - loss: 0.6125 - accuracy: 0.65 - ETA: 0s - loss: 0.6111 - accuracy: 0.66 - ETA: 0s - loss: 0.6103 - accuracy: 0.66 - ETA: 0s - loss: 0.6094 - accuracy: 0.66 - ETA: 0s - loss: 0.6085 - accuracy: 0.66 - ETA: 0s - loss: 0.6062 - accuracy: 0.66 - 6s 195ms/step - loss: 0.6041 - accuracy: 0.6719 - val_loss: 0.5910 - val_accuracy: 0.6837\n",
      "Epoch 5/20\n",
      "30/30 [==============================] - ETA: 12s - loss: 0.5659 - accuracy: 0.705 - ETA: 6s - loss: 0.5917 - accuracy: 0.688 - ETA: 4s - loss: 0.5886 - accuracy: 0.69 - ETA: 3s - loss: 0.5851 - accuracy: 0.69 - ETA: 2s - loss: 0.5828 - accuracy: 0.69 - ETA: 2s - loss: 0.5859 - accuracy: 0.69 - ETA: 2s - loss: 0.5864 - accuracy: 0.69 - ETA: 1s - loss: 0.5877 - accuracy: 0.68 - ETA: 1s - loss: 0.5863 - accuracy: 0.68 - ETA: 1s - loss: 0.5837 - accuracy: 0.69 - ETA: 1s - loss: 0.5837 - accuracy: 0.69 - ETA: 0s - loss: 0.5804 - accuracy: 0.69 - ETA: 0s - loss: 0.5799 - accuracy: 0.69 - ETA: 0s - loss: 0.5789 - accuracy: 0.69 - ETA: 0s - loss: 0.5791 - accuracy: 0.69 - ETA: 0s - loss: 0.5786 - accuracy: 0.69 - ETA: 0s - loss: 0.5782 - accuracy: 0.69 - ETA: 0s - loss: 0.5780 - accuracy: 0.69 - ETA: 0s - loss: 0.5768 - accuracy: 0.69 - 4s 131ms/step - loss: 0.5762 - accuracy: 0.6962 - val_loss: 0.5665 - val_accuracy: 0.7082\n",
      "Epoch 6/20\n",
      "30/30 [==============================] - ETA: 13s - loss: 0.5565 - accuracy: 0.722 - ETA: 7s - loss: 0.5630 - accuracy: 0.714 - ETA: 5s - loss: 0.5658 - accuracy: 0.71 - ETA: 4s - loss: 0.5625 - accuracy: 0.71 - ETA: 3s - loss: 0.5631 - accuracy: 0.71 - ETA: 2s - loss: 0.5645 - accuracy: 0.71 - ETA: 2s - loss: 0.5627 - accuracy: 0.71 - ETA: 2s - loss: 0.5614 - accuracy: 0.71 - ETA: 1s - loss: 0.5628 - accuracy: 0.71 - ETA: 1s - loss: 0.5611 - accuracy: 0.71 - ETA: 1s - loss: 0.5596 - accuracy: 0.71 - ETA: 1s - loss: 0.5587 - accuracy: 0.71 - ETA: 0s - loss: 0.5587 - accuracy: 0.71 - ETA: 0s - loss: 0.5590 - accuracy: 0.71 - ETA: 0s - loss: 0.5570 - accuracy: 0.71 - ETA: 0s - loss: 0.5569 - accuracy: 0.71 - ETA: 0s - loss: 0.5569 - accuracy: 0.71 - ETA: 0s - loss: 0.5543 - accuracy: 0.72 - ETA: 0s - loss: 0.5533 - accuracy: 0.72 - 4s 148ms/step - loss: 0.5509 - accuracy: 0.7261 - val_loss: 0.5406 - val_accuracy: 0.7350\n",
      "Epoch 7/20\n",
      "30/30 [==============================] - ETA: 14s - loss: 0.5353 - accuracy: 0.748 - ETA: 7s - loss: 0.5377 - accuracy: 0.751 - ETA: 5s - loss: 0.5398 - accuracy: 0.74 - ETA: 4s - loss: 0.5401 - accuracy: 0.73 - ETA: 3s - loss: 0.5340 - accuracy: 0.74 - ETA: 2s - loss: 0.5347 - accuracy: 0.74 - ETA: 2s - loss: 0.5303 - accuracy: 0.74 - ETA: 2s - loss: 0.5300 - accuracy: 0.74 - ETA: 1s - loss: 0.5304 - accuracy: 0.74 - ETA: 1s - loss: 0.5269 - accuracy: 0.74 - ETA: 1s - loss: 0.5254 - accuracy: 0.75 - ETA: 1s - loss: 0.5252 - accuracy: 0.75 - ETA: 0s - loss: 0.5235 - accuracy: 0.75 - ETA: 0s - loss: 0.5251 - accuracy: 0.75 - ETA: 0s - loss: 0.5238 - accuracy: 0.75 - ETA: 0s - loss: 0.5245 - accuracy: 0.74 - ETA: 0s - loss: 0.5241 - accuracy: 0.75 - ETA: 0s - loss: 0.5227 - accuracy: 0.75 - ETA: 0s - loss: 0.5216 - accuracy: 0.75 - 5s 155ms/step - loss: 0.5198 - accuracy: 0.7516 - val_loss: 0.5128 - val_accuracy: 0.7536\n",
      "Epoch 8/20\n",
      "30/30 [==============================] - ETA: 14s - loss: 0.5063 - accuracy: 0.761 - ETA: 8s - loss: 0.4936 - accuracy: 0.770 - ETA: 5s - loss: 0.4849 - accuracy: 0.77 - ETA: 4s - loss: 0.4946 - accuracy: 0.77 - ETA: 3s - loss: 0.4939 - accuracy: 0.76 - ETA: 3s - loss: 0.4939 - accuracy: 0.76 - ETA: 2s - loss: 0.4944 - accuracy: 0.76 - ETA: 2s - loss: 0.4950 - accuracy: 0.76 - ETA: 2s - loss: 0.4980 - accuracy: 0.76 - ETA: 1s - loss: 0.4988 - accuracy: 0.76 - ETA: 1s - loss: 0.5008 - accuracy: 0.76 - ETA: 1s - loss: 0.4973 - accuracy: 0.76 - ETA: 1s - loss: 0.4986 - accuracy: 0.76 - ETA: 0s - loss: 0.4977 - accuracy: 0.76 - ETA: 0s - loss: 0.4961 - accuracy: 0.76 - ETA: 0s - loss: 0.4955 - accuracy: 0.76 - ETA: 0s - loss: 0.4937 - accuracy: 0.76 - ETA: 0s - loss: 0.4922 - accuracy: 0.76 - ETA: 0s - loss: 0.4917 - accuracy: 0.76 - 5s 151ms/step - loss: 0.4891 - accuracy: 0.7766 - val_loss: 0.4843 - val_accuracy: 0.7728\n"
     ]
    },
    {
     "name": "stdout",
     "output_type": "stream",
     "text": [
      "Epoch 9/20\n",
      "30/30 [==============================] - ETA: 13s - loss: 0.4633 - accuracy: 0.785 - ETA: 7s - loss: 0.4584 - accuracy: 0.793 - ETA: 5s - loss: 0.4570 - accuracy: 0.79 - ETA: 4s - loss: 0.4584 - accuracy: 0.80 - ETA: 3s - loss: 0.4638 - accuracy: 0.79 - ETA: 2s - loss: 0.4618 - accuracy: 0.79 - ETA: 2s - loss: 0.4595 - accuracy: 0.79 - ETA: 2s - loss: 0.4611 - accuracy: 0.79 - ETA: 1s - loss: 0.4577 - accuracy: 0.79 - ETA: 1s - loss: 0.4554 - accuracy: 0.79 - ETA: 1s - loss: 0.4547 - accuracy: 0.79 - ETA: 1s - loss: 0.4561 - accuracy: 0.79 - ETA: 0s - loss: 0.4557 - accuracy: 0.79 - ETA: 0s - loss: 0.4560 - accuracy: 0.79 - ETA: 0s - loss: 0.4549 - accuracy: 0.79 - ETA: 0s - loss: 0.4548 - accuracy: 0.79 - ETA: 0s - loss: 0.4548 - accuracy: 0.79 - ETA: 0s - loss: 0.4545 - accuracy: 0.79 - ETA: 0s - loss: 0.4533 - accuracy: 0.79 - 4s 145ms/step - loss: 0.4523 - accuracy: 0.8001 - val_loss: 0.4578 - val_accuracy: 0.7876\n",
      "Epoch 10/20\n",
      "30/30 [==============================] - ETA: 14s - loss: 0.4757 - accuracy: 0.777 - ETA: 8s - loss: 0.4469 - accuracy: 0.778 - ETA: 5s - loss: 0.4312 - accuracy: 0.80 - ETA: 4s - loss: 0.4330 - accuracy: 0.80 - ETA: 3s - loss: 0.4314 - accuracy: 0.80 - ETA: 3s - loss: 0.4355 - accuracy: 0.80 - ETA: 2s - loss: 0.4316 - accuracy: 0.80 - ETA: 2s - loss: 0.4265 - accuracy: 0.81 - ETA: 1s - loss: 0.4276 - accuracy: 0.80 - ETA: 1s - loss: 0.4273 - accuracy: 0.81 - ETA: 1s - loss: 0.4268 - accuracy: 0.81 - ETA: 1s - loss: 0.4244 - accuracy: 0.81 - ETA: 0s - loss: 0.4240 - accuracy: 0.81 - ETA: 0s - loss: 0.4254 - accuracy: 0.81 - ETA: 0s - loss: 0.4252 - accuracy: 0.81 - ETA: 0s - loss: 0.4245 - accuracy: 0.81 - ETA: 0s - loss: 0.4235 - accuracy: 0.81 - ETA: 0s - loss: 0.4226 - accuracy: 0.81 - ETA: 0s - loss: 0.4224 - accuracy: 0.81 - 4s 146ms/step - loss: 0.4208 - accuracy: 0.8176 - val_loss: 0.4291 - val_accuracy: 0.8082\n",
      "Epoch 11/20\n",
      "30/30 [==============================] - ETA: 14s - loss: 0.3845 - accuracy: 0.835 - ETA: 7s - loss: 0.3800 - accuracy: 0.847 - ETA: 5s - loss: 0.3808 - accuracy: 0.84 - ETA: 4s - loss: 0.3847 - accuracy: 0.83 - ETA: 3s - loss: 0.3847 - accuracy: 0.83 - ETA: 2s - loss: 0.3858 - accuracy: 0.83 - ETA: 2s - loss: 0.3834 - accuracy: 0.83 - ETA: 2s - loss: 0.3872 - accuracy: 0.83 - ETA: 1s - loss: 0.3899 - accuracy: 0.83 - ETA: 1s - loss: 0.3902 - accuracy: 0.83 - ETA: 1s - loss: 0.3901 - accuracy: 0.83 - ETA: 1s - loss: 0.3904 - accuracy: 0.83 - ETA: 0s - loss: 0.3903 - accuracy: 0.83 - ETA: 0s - loss: 0.3877 - accuracy: 0.83 - ETA: 0s - loss: 0.3880 - accuracy: 0.83 - ETA: 0s - loss: 0.3902 - accuracy: 0.83 - ETA: 0s - loss: 0.3892 - accuracy: 0.83 - ETA: 0s - loss: 0.3884 - accuracy: 0.83 - ETA: 0s - loss: 0.3881 - accuracy: 0.83 - 4s 145ms/step - loss: 0.3861 - accuracy: 0.8403 - val_loss: 0.4004 - val_accuracy: 0.8225\n",
      "Epoch 12/20\n",
      "30/30 [==============================] - ETA: 14s - loss: 0.3538 - accuracy: 0.857 - ETA: 7s - loss: 0.3567 - accuracy: 0.849 - ETA: 5s - loss: 0.3591 - accuracy: 0.84 - ETA: 4s - loss: 0.3607 - accuracy: 0.84 - ETA: 3s - loss: 0.3610 - accuracy: 0.84 - ETA: 2s - loss: 0.3673 - accuracy: 0.84 - ETA: 2s - loss: 0.3640 - accuracy: 0.84 - ETA: 2s - loss: 0.3640 - accuracy: 0.84 - ETA: 1s - loss: 0.3598 - accuracy: 0.84 - ETA: 1s - loss: 0.3603 - accuracy: 0.84 - ETA: 1s - loss: 0.3581 - accuracy: 0.85 - ETA: 1s - loss: 0.3587 - accuracy: 0.85 - ETA: 0s - loss: 0.3600 - accuracy: 0.85 - ETA: 0s - loss: 0.3599 - accuracy: 0.85 - ETA: 0s - loss: 0.3595 - accuracy: 0.85 - ETA: 0s - loss: 0.3598 - accuracy: 0.85 - ETA: 0s - loss: 0.3580 - accuracy: 0.85 - ETA: 0s - loss: 0.3565 - accuracy: 0.85 - ETA: 0s - loss: 0.3575 - accuracy: 0.85 - 4s 147ms/step - loss: 0.3553 - accuracy: 0.8587 - val_loss: 0.3769 - val_accuracy: 0.8338\n",
      "Epoch 13/20\n",
      "30/30 [==============================] - ETA: 13s - loss: 0.3378 - accuracy: 0.857 - ETA: 7s - loss: 0.3213 - accuracy: 0.873 - ETA: 5s - loss: 0.3348 - accuracy: 0.87 - ETA: 4s - loss: 0.3371 - accuracy: 0.86 - ETA: 3s - loss: 0.3292 - accuracy: 0.87 - ETA: 2s - loss: 0.3279 - accuracy: 0.87 - ETA: 2s - loss: 0.3257 - accuracy: 0.87 - ETA: 2s - loss: 0.3274 - accuracy: 0.87 - ETA: 1s - loss: 0.3288 - accuracy: 0.86 - ETA: 1s - loss: 0.3294 - accuracy: 0.86 - ETA: 1s - loss: 0.3276 - accuracy: 0.87 - ETA: 1s - loss: 0.3270 - accuracy: 0.87 - ETA: 0s - loss: 0.3268 - accuracy: 0.87 - ETA: 0s - loss: 0.3250 - accuracy: 0.87 - ETA: 0s - loss: 0.3229 - accuracy: 0.87 - ETA: 0s - loss: 0.3246 - accuracy: 0.87 - ETA: 0s - loss: 0.3229 - accuracy: 0.87 - ETA: 0s - loss: 0.3240 - accuracy: 0.87 - ETA: 0s - loss: 0.3245 - accuracy: 0.87 - 4s 143ms/step - loss: 0.3238 - accuracy: 0.8744 - val_loss: 0.3570 - val_accuracy: 0.8449\n",
      "Epoch 14/20\n",
      "30/30 [==============================] - ETA: 13s - loss: 0.2908 - accuracy: 0.884 - ETA: 7s - loss: 0.3112 - accuracy: 0.883 - ETA: 5s - loss: 0.3007 - accuracy: 0.88 - ETA: 4s - loss: 0.2943 - accuracy: 0.89 - ETA: 3s - loss: 0.2986 - accuracy: 0.88 - ETA: 2s - loss: 0.3007 - accuracy: 0.88 - ETA: 2s - loss: 0.2992 - accuracy: 0.88 - ETA: 2s - loss: 0.2951 - accuracy: 0.88 - ETA: 1s - loss: 0.2966 - accuracy: 0.88 - ETA: 1s - loss: 0.2969 - accuracy: 0.88 - ETA: 1s - loss: 0.2972 - accuracy: 0.88 - ETA: 1s - loss: 0.2935 - accuracy: 0.89 - ETA: 0s - loss: 0.2937 - accuracy: 0.89 - ETA: 0s - loss: 0.2950 - accuracy: 0.89 - ETA: 0s - loss: 0.2958 - accuracy: 0.89 - ETA: 0s - loss: 0.2968 - accuracy: 0.88 - ETA: 0s - loss: 0.2968 - accuracy: 0.88 - ETA: 0s - loss: 0.2973 - accuracy: 0.88 - ETA: 0s - loss: 0.2966 - accuracy: 0.88 - 4s 146ms/step - loss: 0.2970 - accuracy: 0.8881 - val_loss: 0.3435 - val_accuracy: 0.8511\n",
      "Epoch 15/20\n",
      "30/30 [==============================] - ETA: 13s - loss: 0.2919 - accuracy: 0.882 - ETA: 7s - loss: 0.2739 - accuracy: 0.892 - ETA: 5s - loss: 0.2922 - accuracy: 0.88 - ETA: 4s - loss: 0.2947 - accuracy: 0.88 - ETA: 3s - loss: 0.2962 - accuracy: 0.88 - ETA: 2s - loss: 0.2932 - accuracy: 0.88 - ETA: 2s - loss: 0.2876 - accuracy: 0.89 - ETA: 2s - loss: 0.2819 - accuracy: 0.89 - ETA: 1s - loss: 0.2776 - accuracy: 0.89 - ETA: 1s - loss: 0.2801 - accuracy: 0.89 - ETA: 1s - loss: 0.2807 - accuracy: 0.89 - ETA: 1s - loss: 0.2793 - accuracy: 0.89 - ETA: 0s - loss: 0.2801 - accuracy: 0.89 - ETA: 0s - loss: 0.2827 - accuracy: 0.89 - ETA: 0s - loss: 0.2809 - accuracy: 0.89 - ETA: 0s - loss: 0.2814 - accuracy: 0.89 - ETA: 0s - loss: 0.2796 - accuracy: 0.89 - ETA: 0s - loss: 0.2810 - accuracy: 0.89 - ETA: 0s - loss: 0.2798 - accuracy: 0.89 - 4s 143ms/step - loss: 0.2780 - accuracy: 0.8985 - val_loss: 0.3268 - val_accuracy: 0.8597\n",
      "Epoch 16/20\n",
      "30/30 [==============================] - ETA: 14s - loss: 0.2624 - accuracy: 0.898 - ETA: 7s - loss: 0.2537 - accuracy: 0.903 - ETA: 5s - loss: 0.2564 - accuracy: 0.89 - ETA: 4s - loss: 0.2594 - accuracy: 0.89 - ETA: 3s - loss: 0.2621 - accuracy: 0.89 - ETA: 2s - loss: 0.2600 - accuracy: 0.90 - ETA: 2s - loss: 0.2604 - accuracy: 0.90 - ETA: 2s - loss: 0.2600 - accuracy: 0.90 - ETA: 1s - loss: 0.2593 - accuracy: 0.90 - ETA: 1s - loss: 0.2620 - accuracy: 0.90 - ETA: 1s - loss: 0.2628 - accuracy: 0.89 - ETA: 1s - loss: 0.2606 - accuracy: 0.89 - ETA: 0s - loss: 0.2594 - accuracy: 0.90 - ETA: 0s - loss: 0.2586 - accuracy: 0.90 - ETA: 0s - loss: 0.2577 - accuracy: 0.90 - ETA: 0s - loss: 0.2574 - accuracy: 0.90 - ETA: 0s - loss: 0.2584 - accuracy: 0.90 - ETA: 0s - loss: 0.2588 - accuracy: 0.90 - ETA: 0s - loss: 0.2598 - accuracy: 0.90 - 4s 145ms/step - loss: 0.2580 - accuracy: 0.9075 - val_loss: 0.3173 - val_accuracy: 0.8660\n",
      "Epoch 17/20\n"
     ]
    },
    {
     "name": "stdout",
     "output_type": "stream",
     "text": [
      "30/30 [==============================] - ETA: 14s - loss: 0.2365 - accuracy: 0.925 - ETA: 7s - loss: 0.2446 - accuracy: 0.918 - ETA: 5s - loss: 0.2413 - accuracy: 0.91 - ETA: 4s - loss: 0.2332 - accuracy: 0.91 - ETA: 3s - loss: 0.2368 - accuracy: 0.91 - ETA: 3s - loss: 0.2426 - accuracy: 0.91 - ETA: 2s - loss: 0.2428 - accuracy: 0.91 - ETA: 2s - loss: 0.2424 - accuracy: 0.91 - ETA: 1s - loss: 0.2427 - accuracy: 0.91 - ETA: 1s - loss: 0.2415 - accuracy: 0.91 - ETA: 1s - loss: 0.2379 - accuracy: 0.91 - ETA: 1s - loss: 0.2379 - accuracy: 0.91 - ETA: 0s - loss: 0.2378 - accuracy: 0.91 - ETA: 0s - loss: 0.2381 - accuracy: 0.91 - ETA: 0s - loss: 0.2380 - accuracy: 0.91 - ETA: 0s - loss: 0.2378 - accuracy: 0.91 - ETA: 0s - loss: 0.2370 - accuracy: 0.91 - ETA: 0s - loss: 0.2351 - accuracy: 0.91 - ETA: 0s - loss: 0.2347 - accuracy: 0.91 - 4s 147ms/step - loss: 0.2352 - accuracy: 0.9157 - val_loss: 0.3078 - val_accuracy: 0.8690\n",
      "Epoch 18/20\n",
      "30/30 [==============================] - ETA: 13s - loss: 0.1947 - accuracy: 0.933 - ETA: 7s - loss: 0.2105 - accuracy: 0.930 - ETA: 5s - loss: 0.2268 - accuracy: 0.92 - ETA: 4s - loss: 0.2222 - accuracy: 0.92 - ETA: 3s - loss: 0.2247 - accuracy: 0.92 - ETA: 2s - loss: 0.2255 - accuracy: 0.92 - ETA: 2s - loss: 0.2267 - accuracy: 0.92 - ETA: 2s - loss: 0.2310 - accuracy: 0.91 - ETA: 1s - loss: 0.2275 - accuracy: 0.91 - ETA: 1s - loss: 0.2254 - accuracy: 0.92 - ETA: 1s - loss: 0.2255 - accuracy: 0.92 - ETA: 1s - loss: 0.2274 - accuracy: 0.91 - ETA: 0s - loss: 0.2269 - accuracy: 0.91 - ETA: 0s - loss: 0.2273 - accuracy: 0.91 - ETA: 0s - loss: 0.2275 - accuracy: 0.91 - ETA: 0s - loss: 0.2272 - accuracy: 0.91 - ETA: 0s - loss: 0.2245 - accuracy: 0.91 - ETA: 0s - loss: 0.2239 - accuracy: 0.91 - ETA: 0s - loss: 0.2235 - accuracy: 0.91 - 4s 144ms/step - loss: 0.2220 - accuracy: 0.9225 - val_loss: 0.3010 - val_accuracy: 0.8716\n",
      "Epoch 19/20\n",
      "30/30 [==============================] - ETA: 14s - loss: 0.1848 - accuracy: 0.937 - ETA: 7s - loss: 0.2071 - accuracy: 0.918 - ETA: 5s - loss: 0.2103 - accuracy: 0.91 - ETA: 4s - loss: 0.2056 - accuracy: 0.92 - ETA: 3s - loss: 0.2070 - accuracy: 0.92 - ETA: 2s - loss: 0.2045 - accuracy: 0.92 - ETA: 2s - loss: 0.2059 - accuracy: 0.92 - ETA: 2s - loss: 0.2069 - accuracy: 0.92 - ETA: 1s - loss: 0.2071 - accuracy: 0.92 - ETA: 1s - loss: 0.2070 - accuracy: 0.92 - ETA: 1s - loss: 0.2088 - accuracy: 0.92 - ETA: 1s - loss: 0.2081 - accuracy: 0.92 - ETA: 0s - loss: 0.2110 - accuracy: 0.92 - ETA: 0s - loss: 0.2115 - accuracy: 0.92 - ETA: 0s - loss: 0.2110 - accuracy: 0.92 - ETA: 0s - loss: 0.2088 - accuracy: 0.92 - ETA: 0s - loss: 0.2065 - accuracy: 0.92 - ETA: 0s - loss: 0.2053 - accuracy: 0.92 - ETA: 0s - loss: 0.2059 - accuracy: 0.92 - 4s 147ms/step - loss: 0.2053 - accuracy: 0.9276 - val_loss: 0.2962 - val_accuracy: 0.8740\n",
      "Epoch 20/20\n",
      "30/30 [==============================] - ETA: 13s - loss: 0.2013 - accuracy: 0.937 - ETA: 7s - loss: 0.2029 - accuracy: 0.928 - ETA: 5s - loss: 0.1982 - accuracy: 0.93 - ETA: 4s - loss: 0.1994 - accuracy: 0.92 - ETA: 3s - loss: 0.1954 - accuracy: 0.93 - ETA: 2s - loss: 0.1969 - accuracy: 0.92 - ETA: 2s - loss: 0.1967 - accuracy: 0.93 - ETA: 2s - loss: 0.1958 - accuracy: 0.93 - ETA: 1s - loss: 0.1957 - accuracy: 0.93 - ETA: 1s - loss: 0.1979 - accuracy: 0.92 - ETA: 1s - loss: 0.1953 - accuracy: 0.93 - ETA: 1s - loss: 0.1917 - accuracy: 0.93 - ETA: 0s - loss: 0.1900 - accuracy: 0.93 - ETA: 0s - loss: 0.1913 - accuracy: 0.93 - ETA: 0s - loss: 0.1933 - accuracy: 0.93 - ETA: 0s - loss: 0.1935 - accuracy: 0.93 - ETA: 0s - loss: 0.1932 - accuracy: 0.93 - ETA: 0s - loss: 0.1933 - accuracy: 0.93 - ETA: 0s - loss: 0.1934 - accuracy: 0.93 - 4s 145ms/step - loss: 0.1926 - accuracy: 0.9329 - val_loss: 0.2941 - val_accuracy: 0.8763\n"
     ]
    }
   ],
   "source": [
    "history = model.fit(train_data.shuffle(10000).batch(512),\n",
    "                    epochs=20,\n",
    "                    validation_data=validation_data.batch(512),\n",
    "                    verbose=1)"
   ]
  },
  {
   "cell_type": "markdown",
   "metadata": {
    "colab_type": "text",
    "id": "9EEGuDVuzb5r"
   },
   "source": [
    "## 评估模型\n",
    "\n",
    "我们来看下模型的表现如何。将返回两个值。损失值（loss）（一个表示误差的数字，值越低越好）与准确率（accuracy）。"
   ]
  },
  {
   "cell_type": "code",
   "execution_count": 22,
   "metadata": {
    "colab": {},
    "colab_type": "code",
    "id": "zOMKywn4zReN"
   },
   "outputs": [
    {
     "name": "stdout",
     "output_type": "stream",
     "text": [
      "49/49 - 3s - loss: 0.3112 - accuracy: 0.8682\n",
      "loss: 0.311\n",
      "accuracy: 0.868\n"
     ]
    }
   ],
   "source": [
    "results = model.evaluate(test_data.batch(512), verbose=2)\n",
    "for name, value in zip(model.metrics_names, results):\n",
    "  print(\"%s: %.3f\" % (name, value))"
   ]
  },
  {
   "cell_type": "markdown",
   "metadata": {
    "colab_type": "text",
    "id": "z1iEXVTR0Z2t"
   },
   "source": [
    "这种十分朴素的方法得到了约 87% 的准确率（accuracy）。若采用更好的方法，模型的准确率应当接近 95%。"
   ]
  },
  {
   "cell_type": "markdown",
   "metadata": {
    "colab_type": "text",
    "id": "5KggXVeL-llZ"
   },
   "source": [
    "## 进一步阅读\n",
    "\n",
    "有关使用字符串输入的更一般方法，以及对训练期间准确率（accuracy）和损失值（loss）更详细的分析，请参阅[此处](https://www.tensorflow.org/tutorials/keras/basic_text_classification)。"
   ]
  },
  {
   "cell_type": "code",
   "execution_count": null,
   "metadata": {},
   "outputs": [],
   "source": []
  }
 ],
 "metadata": {
  "colab": {
   "collapsed_sections": [],
   "name": "text_classification_with_hub.ipynb",
   "private_outputs": true,
   "provenance": [],
   "toc_visible": true,
   "version": "0.3.2"
  },
  "kernelspec": {
   "display_name": "Python 3",
   "language": "python",
   "name": "python3"
  },
  "language_info": {
   "codemirror_mode": {
    "name": "ipython",
    "version": 3
   },
   "file_extension": ".py",
   "mimetype": "text/x-python",
   "name": "python",
   "nbconvert_exporter": "python",
   "pygments_lexer": "ipython3",
   "version": "3.7.2"
  }
 },
 "nbformat": 4,
 "nbformat_minor": 1
}
